{
 "cells": [
  {
   "cell_type": "markdown",
   "metadata": {},
   "source": [
    "# Reproducing Roeth and Tarantola using Modern Tools\n",
    "## Part 1: Data Generation using Pytorch Distributions\n",
    "\n",
    "In this first blog post series we'll be looking at reproducing and extending the seminal work by [Roeth and Tarantola](https://agupubs.onlinelibrary.wiley.com/doi/abs/10.1029/93JB01563) on solving ill-posed inverse problems using neural networks. Sadly, their publication isn't available in the open domain. \n",
    "\n",
    "### What's it all about\n",
    "The basic premise is that we wish to obtain the p-wave velocities of a layered earth model based on acoustic recordings obtained from seismic acquisition. Roeth and Tarantola work with synthetic data and generate 450 synthetic earth models at random based on the following paragraph:\n",
    "\n",
    "```We generate a large number of Earth models, all with eight flat layers over a half-space. All layers have 200 m of thickness. The velocity of the first layer is generated pseudorandomly with a velocity of 1500 [m/s] _/- 150 [m/s] (box-car distribution). Once the velocity v of the l-th layer is given, the velocity v(l+1) in the l-th layer is generated psedourandomly as``` \n",
    "\n",
    "$$v_{l+1} = (v_{l} + 190 \\ [\\frac{m}{s}]) \\pm 380 \\ [\\frac{m}{s}]$$ \n",
    "\n",
    "```where, again, the plus or minus sign refers to a box-car distribution. This yields an average increase of velocity of 190 [m/s] per layer but allows local negative velocity jumps. This rule takes into account that in general velocity increases with depth but locally there might exist low-velocity zones. In all our velocity plots, the velocity is normalized with respect to a maximal value of 4000 [m/s]. This normalization is necessary as the choice of the sigmoidal output function only permits values between zero and one.```\n",
    "\n",
    "### What we're going to do\n",
    "\n",
    "So here's what we're going to do in this series of blog posts:\n",
    "\n",
    "- Part 1 (this post): Implement a basic generative model based on the above description by Roeth and Tarantola\n",
    "- Part 2: Create synthetic training and test sets of acoustic waveforms using devito to try based on the generative model defined by the authors and implemented in part 1.\n",
    "- Part 3: Recreate the neural network architecture proposed by Roeth and Tarantola to solve the inverse problem.\n",
    "- Part 4: Where do we go from here: 19994-2019 Neural Networks and Inversion\n",
    "\n",
    "Now comes the best part: I'll try and make all of this possible with open tools.   \n",
    "To be fair the most closed puzzle piece I have found up to now is the [publication](https://agupubs.onlinelibrary.wiley.com/doi/abs/10.1029/93JB01563) itself!\n",
    "\n",
    "### Getting started\n",
    "\n",
    "To follow along you will need a current version of [Pytorch](https://www.pytorch.org) installed.  \n",
    "I personally recommend version 1.0, as this features the most complete and stable version of the pytorch API.\n",
    "\n",
    "Besides that a basic [anaconda](https://anaconda.com) with python 3.6, [matplotlib](https://matplotlib.org) and Numpy are needed. "
   ]
  },
  {
   "cell_type": "markdown",
   "metadata": {},
   "source": [
    "### Importing the libraries and helper functions\n",
    "\n",
    "Here we import some basic libraries including the pylab stack (numpy, matplotlib, etc) as well as [torch](www.pytorch.org) and some helper functions I put in [utils.py](utils.py) to plot the data we are generating. I also like to use the autoreload plugin when I'm working with external ```.py``` files just so I don't have to ```Restart Kernel->Run All``` everytime I make a small change outside of jupyter notebooks."
   ]
  },
  {
   "cell_type": "code",
   "execution_count": 1,
   "metadata": {},
   "outputs": [
    {
     "name": "stdout",
     "output_type": "stream",
     "text": [
      "Populating the interactive namespace from numpy and matplotlib\n"
     ]
    }
   ],
   "source": [
    "%pylab inline\n",
    "%load_ext autoreload\n",
    "%autoreload 2\n",
    "import torch\n",
    "from utils import plot_velocity_profile_grid"
   ]
  },
  {
   "cell_type": "markdown",
   "metadata": {},
   "source": [
    "### What are Pytorch Distributions\n",
    "\n",
    "So what are Pytorch Distributions?   \n",
    "They are very similar to numpy's ```numpy.random``` suite of random number generators with a number of \n",
    "additional bells and whistles for random samplers used in the framework of stochastic optimization and machine learning.\n",
    "So why don't we use numpy's own random number generators?  \n",
    "That's a good question, up to now there's three reasons I've found:\n",
    "\n",
    "- Fast random number generation on GPU\n",
    "- Algorithmic possibilities e.g. score functions for REINFORCE and pathwise derivatives such as the reparametrization trick used in Variational Autoencoders. [More here by the Pytorch Devs](https://pytorch.org/docs/stable/distributions.html)\n",
    "- Having a computational graph including random generators fully defined within the torch environment opens up a path to probabilistic programming via [Pyro](https://www.pyro.ai). More on pyro in a later post.\n",
    "\n",
    "\n",
    "The basic use is very simple:\n",
    "\n",
    "We define a parametric distribution we wish to sample from simply by instantiating a ```distribution``` object."
   ]
  },
  {
   "cell_type": "code",
   "execution_count": 2,
   "metadata": {},
   "outputs": [
    {
     "name": "stdout",
     "output_type": "stream",
     "text": [
      "Uniform(low: 0.0, high: 1.0)\n"
     ]
    }
   ],
   "source": [
    "a_uniform_distribution = torch.distributions.Uniform(low=0, high=1)\n",
    "print(a_uniform_distribution)"
   ]
  },
  {
   "cell_type": "markdown",
   "metadata": {},
   "source": [
    "This does not yet sample numbers for us, but we can easily do so by calling ```.sample()``` on our newly created instance of a uniform distribution (box-car distribution)."
   ]
  },
  {
   "cell_type": "code",
   "execution_count": 3,
   "metadata": {},
   "outputs": [
    {
     "name": "stdout",
     "output_type": "stream",
     "text": [
      "tensor(0.9912)\n",
      "tensor([[0.2360, 0.3550, 0.5608,  ..., 0.5266, 0.5391, 0.6076],\n",
      "        [0.0730, 0.8575, 0.6469,  ..., 0.6756, 0.7055, 0.3827],\n",
      "        [0.4565, 0.8585, 0.4145,  ..., 0.9342, 0.7287, 0.9118],\n",
      "        ...,\n",
      "        [0.3652, 0.8755, 0.8293,  ..., 0.0026, 0.8011, 0.5471],\n",
      "        [0.1129, 0.3301, 0.7413,  ..., 0.5242, 0.6904, 0.3652],\n",
      "        [0.4160, 0.9562, 0.1244,  ..., 0.6758, 0.9105, 0.4020]])\n",
      "Just the number itself:  0.5304840803146362\n"
     ]
    }
   ],
   "source": [
    "print(a_uniform_distribution.sample())\n",
    "print(a_uniform_distribution.sample((100, 100)))\n",
    "print(\"Just the number itself: \", a_uniform_distribution.sample().item())"
   ]
  },
  {
   "cell_type": "markdown",
   "metadata": {},
   "source": [
    "You can see we can either just get a single number as a Tensor or we can also specify that we wish to sample Tensors of random numbers from this distribution. Having learned some basics of how to use distributions we can now define the generative model proposed by Roeth and Tarantola."
   ]
  },
  {
   "cell_type": "markdown",
   "metadata": {},
   "source": [
    "## The Generative Earth Model\n",
    "\n",
    "We want our earth to have 9 layers:\n",
    "- The first layer has a velocity of $v_0=1500 \\pm 150 [\\frac{m}{s}]$.\n",
    "- Subsequent velocities of the layers will have $v_{l+1} = (v_{l} + 190 \\ [\\frac{m}{s}]) \\pm 380 \\ [\\frac{m}{s}]$\n",
    "- The maximum velocity should be 4000 $[\\frac{m}{s}]$\n",
    "- All layers have 200 $[m]$ of thickness, so a total thickness of 1800 $[m]$.\n",
    "- From later in the paper we know the domain should be 2500 $[m]$ wide.\n",
    "- We choose a grid-block spacing of 5 $[m]$ to discretize our model in y (horizontal) and z (vertical) directions.\n",
    "- This also means that a single layer consists of 40 grid-blocks i.e. $40 \\ [block] * 5 \\ [\\frac{m}{block}]=200  [m]$ thickness."
   ]
  },
  {
   "cell_type": "code",
   "execution_count": 4,
   "metadata": {},
   "outputs": [],
   "source": [
    "dx = 5.0\n",
    "dz = 40\n",
    "nz = 360\n",
    "ny = 500\n",
    "\n",
    "v0 = 1500\n",
    "v_max = 4000\n",
    "dv_l_const = 190.\n",
    "n_layers = 9"
   ]
  },
  {
   "cell_type": "markdown",
   "metadata": {},
   "source": [
    "### Defining the probability distributions\n",
    "\n",
    "Based on the above description we'll need two sampling distributions one for the initial velocity ($\\pm 150 \\ [\\frac{m}{s}]$)  \n",
    "and a second one for the subsequent layers ($\\pm380 \\ [\\frac{m}{s}]$). We also set the random number generators so we create the same output every time we run the notebook (for science! and reproducibility).\n",
    "Random seed chosen for reasons provided in [Adams 1978](https://en.wikipedia.org/wiki/The_Hitchhiker%27s_Guide_to_the_Galaxy)"
   ]
  },
  {
   "cell_type": "code",
   "execution_count": 5,
   "metadata": {},
   "outputs": [],
   "source": [
    "torch.manual_seed(42)\n",
    "torch.cuda.manual_seed_all(42)\n",
    "\n",
    "dVel0 = torch.distributions.Uniform(low=-150, high=150)\n",
    "dVel =  torch.distributions.Uniform(low=-380, high=380)"
   ]
  },
  {
   "cell_type": "markdown",
   "metadata": {},
   "source": [
    "We'll now need to create a basic container for our random model and sample the velocity of our initial layer:"
   ]
  },
  {
   "cell_type": "code",
   "execution_count": 6,
   "metadata": {},
   "outputs": [
    {
     "name": "stdout",
     "output_type": "stream",
     "text": [
      "1614.6807861328125\n"
     ]
    }
   ],
   "source": [
    "model = torch.ones(nz, ny)\n",
    "\n",
    "vl = v0+dVel0.sample()\n",
    "print(vl.item())"
   ]
  },
  {
   "cell_type": "markdown",
   "metadata": {},
   "source": [
    "With this initial velocity defined we can now iterate over the ```n_layers``` in our model and sample at random the subsequent velocities. But careful if we exceed the 4000 $[\\frac{m}{s}]$ we'll need to cap off there so we need an if clause to check that:"
   ]
  },
  {
   "cell_type": "code",
   "execution_count": 7,
   "metadata": {},
   "outputs": [
    {
     "name": "stdout",
     "output_type": "stream",
     "text": [
      "Layer  1  at depth  0.0 [m] to  200.0 [m] has velocity of 2120.1\n",
      "Layer  2  at depth  200.0 [m] to  400.0 [m] has velocity of 2221.1\n",
      "Layer  3  at depth  400.0 [m] to  600.0 [m] has velocity of 2760.1\n",
      "Layer  4  at depth  600.0 [m] to  800.0 [m] has velocity of 2866.9\n",
      "Layer  5  at depth  800.0 [m] to  1000.0 [m] has velocity of 3133.6\n",
      "Layer  6  at depth  1000.0 [m] to  1200.0 [m] has velocity of 3138.5\n",
      "Layer  7  at depth  1200.0 [m] to  1400.0 [m] has velocity of 3551.7\n",
      "Layer  8  at depth  1400.0 [m] to  1600.0 [m] has velocity of 4000.0\n",
      "Layer  9  at depth  1600.0 [m] to  1800.0 [m] has velocity of 3911.2\n"
     ]
    }
   ],
   "source": [
    "for i in range(0, n_layers):\n",
    "    model[dz*i:dz*(i+1), :] = vl\n",
    "    vl =(vl+dv_l_const)+dVel.sample()\n",
    "    if vl >= v_max:\n",
    "        vl = torch.ones(1)*v_max\n",
    "        vl = vl[0]\n",
    "    print(\"Layer \", i+1, \" at depth \", dz*i*dx, \"[m] to \", dz*(i+1)*dx, \"[m] has velocity of %3.1f\" % vl.item())"
   ]
  },
  {
   "cell_type": "markdown",
   "metadata": {},
   "source": [
    "## Defining the generative model as a packaged function\n",
    "\n",
    "Of course we'll want to be able to sample a collection of models using a single sampling function.\n",
    "Here I simply packaged eveything in a single function definition.  \n",
    "What we get in return is a set of models in grid-block fashion and also simply a list of the 9 sampled velocities per generated earth model."
   ]
  },
  {
   "cell_type": "code",
   "execution_count": 8,
   "metadata": {},
   "outputs": [],
   "source": [
    "def sample_model_N_times(dVel0, dVel, v0, dv_l_const, v_max, n_layers, dz, dx, ny, nz, N):\n",
    "    models = []\n",
    "    velocities = []\n",
    "    for i in range(N):\n",
    "        model_true = torch.ones(nz, ny)\n",
    "\n",
    "        vl = v0+dVel0.sample()\n",
    "        vel_temp = []\n",
    "        for i in range(0, n_layers):\n",
    "            vel_temp.append(vl)\n",
    "            model_true[dz*i:dz*(i+1), :] = vl\n",
    "            vl =(vl+dv_l_const)+dVel.sample()\n",
    "            if vl >= v_max:\n",
    "                vl = torch.ones(1)*v_max\n",
    "                vl = vl[0]\n",
    "        velocities.append(torch.stack(vel_temp, 0))\n",
    "        models.append(model_true)\n",
    "        \n",
    "    models_th = torch.stack(models, 0)\n",
    "    velocities_th = torch.stack(velocities, 0) \n",
    "    return models_th, velocities_th"
   ]
  },
  {
   "cell_type": "code",
   "execution_count": 9,
   "metadata": {},
   "outputs": [
    {
     "name": "stdout",
     "output_type": "stream",
     "text": [
      "torch.Size([1, 360, 500])\n",
      "torch.Size([1, 9])\n",
      "tensor([[1630.3794, 1891.5000, 2362.2473, 2603.7109, 2976.9424, 3113.2898,\n",
      "         3596.2263, 3842.3938, 3854.9946]])\n"
     ]
    }
   ],
   "source": [
    "earth_models_th, layer_velocities_th = sample_model_N_times(dVel0, dVel, \n",
    "                                                        v0, dv_l_const, v_max, \n",
    "                                                        n_layers, dz, dx, ny, nz, \n",
    "                                                        1)\n",
    "\n",
    "print(earth_models_th.size())\n",
    "print(layer_velocities_th.size())\n",
    "print(layer_velocities_th)"
   ]
  },
  {
   "cell_type": "markdown",
   "metadata": {},
   "source": [
    "Observant readers may already see where this may come in handy in the next blog-posts.\n",
    "The earth models will be used to simulate the wave-forms in part 2.\n",
    "And in part 3 we will use the layer velocities as our labels to train our network to perform inversion!"
   ]
  },
  {
   "cell_type": "markdown",
   "metadata": {},
   "source": [
    "## Sampling a number of models and plotting them"
   ]
  },
  {
   "cell_type": "markdown",
   "metadata": {},
   "source": [
    "Finally, let's sample a hundred models and plot the _normalised_ velocities on a grid so we can get an idea of the range of generated models."
   ]
  },
  {
   "cell_type": "code",
   "execution_count": 10,
   "metadata": {},
   "outputs": [
    {
     "data": {
      "image/png": "[encoded data removed]",
      "text/plain": [
       "<Figure size 864x864 with 25 Axes>"
      ]
     },
     "metadata": {},
     "output_type": "display_data"
    }
   ],
   "source": [
    "train_models_th, train_labels_th = sample_model_N_times(dVel0, dVel, v0, dv_l_const, v_max, n_layers, dz, dx, ny, nz, 100)\n",
    "\n",
    "ax = plot_velocity_profile_grid(train_labels_th/v_max, nz)"
   ]
  },
  {
   "cell_type": "markdown",
   "metadata": {},
   "source": [
    "As Roeth and Tarantola have mentioned, their generative model allows for the velocities to have a near linear increase with depth but also allow for random jumps to lower velocities.\n",
    "In the next blog post - part 2 - we'll use a finite-difference forward model to generate synthetic acoustic waveforms. Stay tuned!\n",
    "\n",
    "If you enjoyed this, or have critique, please feel free to comment on Twitter or raise an issue on github!"
   ]
  }
 ],
 "metadata": {
  "kernelspec": {
   "display_name": "Python [conda env:dlenv]",
   "language": "python",
   "name": "conda-env-dlenv-py"
  },
  "language_info": {
   "codemirror_mode": {
    "name": "ipython",
    "version": 3
   },
   "file_extension": ".py",
   "mimetype": "text/x-python",
   "name": "python",
   "nbconvert_exporter": "python",
   "pygments_lexer": "ipython3",
   "version": "3.6.5"
  }
 },
 "nbformat": 4,
 "nbformat_minor": 2
}
